{
 "cells": [
  {
   "cell_type": "markdown",
   "metadata": {},
   "source": [
    "<h1>Tarea integradora - Resoluiones</h1>\n",
    "\n",
    "<h3>Análisis y visualización de datos</h3>\n",
    "<h4>Diplomatura AACSyA 2018 - FaMAF - UNC</h4>\n",
    "\n",
    "En esta notebook presentamos las soluciones de los ejercicios de la tarea integradora en las que hubo más dificultades."
   ]
  },
  {
   "cell_type": "code",
   "execution_count": 2,
   "metadata": {
    "collapsed": true
   },
   "outputs": [],
   "source": [
    "%matplotlib inline\n",
    "import pandas\n",
    "import numpy\n",
    "import seaborn"
   ]
  },
  {
   "cell_type": "code",
   "execution_count": 3,
   "metadata": {
    "collapsed": true
   },
   "outputs": [],
   "source": [
    "seaborn.set_style('whitegrid')\n",
    "seaborn.set_context('talk')"
   ]
  },
  {
   "cell_type": "code",
   "execution_count": 4,
   "metadata": {
    "collapsed": true
   },
   "outputs": [],
   "source": [
    "dataset = pandas.read_csv('https://cs.famaf.unc.edu.ar/~mteruel/datasets/diplodatos/violencia-institucional-2018-01.csv',\n",
    "                          encoding='utf8')"
   ]
  },
  {
   "cell_type": "code",
   "execution_count": 5,
   "metadata": {},
   "outputs": [
    {
     "data": {
      "text/html": [
       "<div>\n",
       "<style>\n",
       "    .dataframe thead tr:only-child th {\n",
       "        text-align: right;\n",
       "    }\n",
       "\n",
       "    .dataframe thead th {\n",
       "        text-align: left;\n",
       "    }\n",
       "\n",
       "    .dataframe tbody tr th {\n",
       "        vertical-align: top;\n",
       "    }\n",
       "</style>\n",
       "<table border=\"1\" class=\"dataframe\">\n",
       "  <thead>\n",
       "    <tr style=\"text-align: right;\">\n",
       "      <th></th>\n",
       "      <th>area</th>\n",
       "      <th>organismo_origen</th>\n",
       "      <th>via_acceso</th>\n",
       "      <th>año</th>\n",
       "      <th>provincia</th>\n",
       "      <th>contexto</th>\n",
       "      <th>contexto1</th>\n",
       "      <th>circunstancia</th>\n",
       "      <th>alojamiento</th>\n",
       "      <th>violencia_fisica</th>\n",
       "      <th>violencia_psiquica</th>\n",
       "      <th>violencia_genero</th>\n",
       "      <th>violencia_salud</th>\n",
       "      <th>resumen_hecho</th>\n",
       "      <th>descripcion_institucion</th>\n",
       "      <th>establecimiento</th>\n",
       "      <th>Unnamed: 16</th>\n",
       "    </tr>\n",
       "  </thead>\n",
       "  <tbody>\n",
       "    <tr>\n",
       "      <th>0</th>\n",
       "      <td>DNPCVI</td>\n",
       "      <td>SECRETARIA DE DDHH</td>\n",
       "      <td>Telefónica</td>\n",
       "      <td>2017,00</td>\n",
       "      <td>Buenos Aires</td>\n",
       "      <td>Situaciones de Detención</td>\n",
       "      <td>Penal / Complejo Penitenciario PROVINCIAL</td>\n",
       "      <td>NaN</td>\n",
       "      <td>NaN</td>\n",
       "      <td>NaN</td>\n",
       "      <td>NaN</td>\n",
       "      <td>NaN</td>\n",
       "      <td>Denegación acceso atención médica</td>\n",
       "      <td>NaN</td>\n",
       "      <td>Servicio Penitenciario Provincial</td>\n",
       "      <td>UPP Nº 13 Junin</td>\n",
       "      <td>NaN</td>\n",
       "    </tr>\n",
       "    <tr>\n",
       "      <th>1</th>\n",
       "      <td>DNPCVI</td>\n",
       "      <td>SECRETARIA DE DDHH</td>\n",
       "      <td>Telefónica</td>\n",
       "      <td>2017,00</td>\n",
       "      <td>Buenos Aires</td>\n",
       "      <td>Situaciones de Detención</td>\n",
       "      <td>Penal / Complejo Penitenciario PROVINCIAL</td>\n",
       "      <td>NaN</td>\n",
       "      <td>Malas condiciones de alojamiento (higiene), Hu...</td>\n",
       "      <td>NaN</td>\n",
       "      <td>NaN</td>\n",
       "      <td>NaN</td>\n",
       "      <td>Denegación acceso atención médica</td>\n",
       "      <td>NaN</td>\n",
       "      <td>Servicio Penitenciario Provincial</td>\n",
       "      <td>UPP Nº 13 DE JUNIN</td>\n",
       "      <td>NaN</td>\n",
       "    </tr>\n",
       "    <tr>\n",
       "      <th>2</th>\n",
       "      <td>DNPCVI</td>\n",
       "      <td>SECRETARIA DE DDHH</td>\n",
       "      <td>Telefónica</td>\n",
       "      <td>2017,00</td>\n",
       "      <td>Buenos Aires</td>\n",
       "      <td>Situaciones de Detención</td>\n",
       "      <td>Penal / Complejo Penitenciario PROVINCIAL</td>\n",
       "      <td>NaN</td>\n",
       "      <td>Malas condiciones de alojamiento (higiene)</td>\n",
       "      <td>NaN</td>\n",
       "      <td>NaN</td>\n",
       "      <td>NaN</td>\n",
       "      <td>NaN</td>\n",
       "      <td>NaN</td>\n",
       "      <td>Servicio Penitenciario Provincial</td>\n",
       "      <td>UPP Nº 36 de Magdalena</td>\n",
       "      <td>NaN</td>\n",
       "    </tr>\n",
       "  </tbody>\n",
       "</table>\n",
       "</div>"
      ],
      "text/plain": [
       "     area    organismo_origen  via_acceso      año     provincia  \\\n",
       "0  DNPCVI  SECRETARIA DE DDHH  Telefónica  2017,00  Buenos Aires   \n",
       "1  DNPCVI  SECRETARIA DE DDHH  Telefónica  2017,00  Buenos Aires   \n",
       "2  DNPCVI  SECRETARIA DE DDHH  Telefónica  2017,00  Buenos Aires   \n",
       "\n",
       "                   contexto                                  contexto1  \\\n",
       "0  Situaciones de Detención  Penal / Complejo Penitenciario PROVINCIAL   \n",
       "1  Situaciones de Detención  Penal / Complejo Penitenciario PROVINCIAL   \n",
       "2  Situaciones de Detención  Penal / Complejo Penitenciario PROVINCIAL   \n",
       "\n",
       "  circunstancia                                        alojamiento  \\\n",
       "0           NaN                                                NaN   \n",
       "1           NaN  Malas condiciones de alojamiento (higiene), Hu...   \n",
       "2           NaN         Malas condiciones de alojamiento (higiene)   \n",
       "\n",
       "  violencia_fisica violencia_psiquica violencia_genero  \\\n",
       "0              NaN                NaN              NaN   \n",
       "1              NaN                NaN              NaN   \n",
       "2              NaN                NaN              NaN   \n",
       "\n",
       "                     violencia_salud  resumen_hecho  \\\n",
       "0  Denegación acceso atención médica            NaN   \n",
       "1  Denegación acceso atención médica            NaN   \n",
       "2                                NaN            NaN   \n",
       "\n",
       "             descripcion_institucion         establecimiento  Unnamed: 16  \n",
       "0  Servicio Penitenciario Provincial         UPP Nº 13 Junin          NaN  \n",
       "1  Servicio Penitenciario Provincial      UPP Nº 13 DE JUNIN          NaN  \n",
       "2  Servicio Penitenciario Provincial  UPP Nº 36 de Magdalena          NaN  "
      ]
     },
     "execution_count": 5,
     "metadata": {},
     "output_type": "execute_result"
    }
   ],
   "source": [
    "dataset[:3]"
   ]
  },
  {
   "cell_type": "code",
   "execution_count": 41,
   "metadata": {
    "collapsed": true
   },
   "outputs": [],
   "source": [
    "import six\n",
    "def convert_to_int(row):\n",
    "    try:\n",
    "        return float(row)\n",
    "    except ValueError:\n",
    "        if isinstance(row, six.string_types):\n",
    "            return float(row.split(',')[0])\n",
    "        return row\n",
    "\n",
    "dataset.loc[:,'year'] = dataset[u'año'].apply(convert_to_int)"
   ]
  },
  {
   "cell_type": "markdown",
   "metadata": {},
   "source": [
    "## Parte 1 - Ejercicio 3\n",
    "\n",
    "Otro posible gráfico es una secuencia de boxplots. Este gráfico muestra la distribución de los eventos por año, pero no muestra la cantidad de datos en cada box. Aunque esto oscurece información, puede ser útil si queremos ver la distribución sin que Buenos Aires absorva toda la masa de casos."
   ]
  },
  {
   "cell_type": "code",
   "execution_count": 44,
   "metadata": {},
   "outputs": [
    {
     "data": {
      "text/plain": [
       "<matplotlib.axes._subplots.AxesSubplot at 0x7f2308269710>"
      ]
     },
     "execution_count": 44,
     "metadata": {},
     "output_type": "execute_result"
    },
    {
     "data": {
      "image/png": "[encoded data removed]",
      "text/plain": [
       "<matplotlib.figure.Figure at 0x7f2308223450>"
      ]
     },
     "metadata": {},
     "output_type": "display_data"
    }
   ],
   "source": [
    "seaborn.boxplot(x=\"year\", y=\"provincia\", data=dataset, color='pink')"
   ]
  },
  {
   "cell_type": "markdown",
   "metadata": {},
   "source": [
    "## Parte 1 - Ejercicio 5"
   ]
  },
  {
   "cell_type": "markdown",
   "metadata": {},
   "source": [
    "Dada la variable aleatoria M = ‘existió violencia fisica’:\n",
    "* ¿Que probabilidad existe que también tenga violencia psíquica? N = ‘existió violencia psíquica’\n",
    "\n",
    "$$P(N~~|~~M)$$\n",
    "\n",
    "Lo primero a definir es qué consideramos como un caso con violencia, tanto psíquica como física. Veamos los posibles valores que pueden tomar estas variables:"
   ]
  },
  {
   "cell_type": "code",
   "execution_count": 13,
   "metadata": {},
   "outputs": [
    {
     "data": {
      "text/html": [
       "<div>\n",
       "<style>\n",
       "    .dataframe thead tr:only-child th {\n",
       "        text-align: right;\n",
       "    }\n",
       "\n",
       "    .dataframe thead th {\n",
       "        text-align: left;\n",
       "    }\n",
       "\n",
       "    .dataframe tbody tr th {\n",
       "        vertical-align: top;\n",
       "    }\n",
       "</style>\n",
       "<table border=\"1\" class=\"dataframe\">\n",
       "  <thead>\n",
       "    <tr style=\"text-align: right;\">\n",
       "      <th></th>\n",
       "      <th>violencia_fisica</th>\n",
       "    </tr>\n",
       "  </thead>\n",
       "  <tbody>\n",
       "    <tr>\n",
       "      <th>NaN</th>\n",
       "      <td>849</td>\n",
       "    </tr>\n",
       "    <tr>\n",
       "      <th>Golpes</th>\n",
       "      <td>230</td>\n",
       "    </tr>\n",
       "    <tr>\n",
       "      <th>Muerte</th>\n",
       "      <td>102</td>\n",
       "    </tr>\n",
       "    <tr>\n",
       "      <th>Heridas penetrantes</th>\n",
       "      <td>39</td>\n",
       "    </tr>\n",
       "    <tr>\n",
       "      <th>Otras formas de maltrato físico</th>\n",
       "      <td>32</td>\n",
       "    </tr>\n",
       "    <tr>\n",
       "      <th>Golpes, Otras formas de maltrato físico</th>\n",
       "      <td>28</td>\n",
       "    </tr>\n",
       "    <tr>\n",
       "      <th>Muerte, Heridas penetrantes</th>\n",
       "      <td>24</td>\n",
       "    </tr>\n",
       "    <tr>\n",
       "      <th>Golpes, Heridas penetrantes</th>\n",
       "      <td>20</td>\n",
       "    </tr>\n",
       "    <tr>\n",
       "      <th>Quemaduras</th>\n",
       "      <td>8</td>\n",
       "    </tr>\n",
       "    <tr>\n",
       "      <th>Privación de la libertad / Secuestro</th>\n",
       "      <td>7</td>\n",
       "    </tr>\n",
       "    <tr>\n",
       "      <th>Quemaduras, Golpes</th>\n",
       "      <td>7</td>\n",
       "    </tr>\n",
       "    <tr>\n",
       "      <th>Golpes, Privación de la libertad / Secuestro</th>\n",
       "      <td>7</td>\n",
       "    </tr>\n",
       "    <tr>\n",
       "      <th>Muerte, Golpes, Heridas penetrantes</th>\n",
       "      <td>7</td>\n",
       "    </tr>\n",
       "    <tr>\n",
       "      <th>Muerte, Golpes</th>\n",
       "      <td>6</td>\n",
       "    </tr>\n",
       "    <tr>\n",
       "      <th>Ninguno</th>\n",
       "      <td>5</td>\n",
       "    </tr>\n",
       "    <tr>\n",
       "      <th>Golpes, Sometimiento a corriente eléctrica</th>\n",
       "      <td>4</td>\n",
       "    </tr>\n",
       "    <tr>\n",
       "      <th>Asfixia, Golpes</th>\n",
       "      <td>4</td>\n",
       "    </tr>\n",
       "    <tr>\n",
       "      <th>Golpes, Sometimiento a posturas forzadas</th>\n",
       "      <td>4</td>\n",
       "    </tr>\n",
       "    <tr>\n",
       "      <th>Desaparición (forzada)</th>\n",
       "      <td>4</td>\n",
       "    </tr>\n",
       "    <tr>\n",
       "      <th>Quemaduras, Golpes, Otras formas de maltrato físico</th>\n",
       "      <td>4</td>\n",
       "    </tr>\n",
       "    <tr>\n",
       "      <th>Asfixia, Muerte</th>\n",
       "      <td>3</td>\n",
       "    </tr>\n",
       "    <tr>\n",
       "      <th>Muerte, Quemaduras</th>\n",
       "      <td>3</td>\n",
       "    </tr>\n",
       "    <tr>\n",
       "      <th>Sometimiento a posturas forzadas</th>\n",
       "      <td>2</td>\n",
       "    </tr>\n",
       "    <tr>\n",
       "      <th>Caídas provocadas, Golpes</th>\n",
       "      <td>2</td>\n",
       "    </tr>\n",
       "    <tr>\n",
       "      <th>Asfixia, Golpes, Otras formas de maltrato físico</th>\n",
       "      <td>2</td>\n",
       "    </tr>\n",
       "    <tr>\n",
       "      <th>Asfixia, Caídas provocadas, Quemaduras, Golpes, Heridas penetrantes, Sometimiento a posturas forzadas, Sometimiento a corriente eléctrica, Otras formas de maltrato físico</th>\n",
       "      <td>2</td>\n",
       "    </tr>\n",
       "    <tr>\n",
       "      <th>Privación de la libertad / Secuestro, Otras formas de maltrato físico</th>\n",
       "      <td>2</td>\n",
       "    </tr>\n",
       "    <tr>\n",
       "      <th>Golpes, Heridas penetrantes, Otras formas de maltrato físico</th>\n",
       "      <td>2</td>\n",
       "    </tr>\n",
       "    <tr>\n",
       "      <th>Heridas penetrantes, Otras formas de maltrato físico</th>\n",
       "      <td>2</td>\n",
       "    </tr>\n",
       "    <tr>\n",
       "      <th>Asfixia, Golpes, Sometimiento a corriente eléctrica, Otras formas de maltrato físico</th>\n",
       "      <td>2</td>\n",
       "    </tr>\n",
       "    <tr>\n",
       "      <th>Caídas provocadas</th>\n",
       "      <td>1</td>\n",
       "    </tr>\n",
       "    <tr>\n",
       "      <th>Asfixia, Golpes, Sometimiento a corriente eléctrica</th>\n",
       "      <td>1</td>\n",
       "    </tr>\n",
       "    <tr>\n",
       "      <th>Golpes, Heridas penetrantes, Privación de la libertad / Secuestro, Otras formas de maltrato físico</th>\n",
       "      <td>1</td>\n",
       "    </tr>\n",
       "    <tr>\n",
       "      <th>Muerte, Golpes, Privación de la libertad / Secuestro, Desaparición (forzada)</th>\n",
       "      <td>1</td>\n",
       "    </tr>\n",
       "    <tr>\n",
       "      <th>Asfixia, Caídas provocadas, Golpes</th>\n",
       "      <td>1</td>\n",
       "    </tr>\n",
       "    <tr>\n",
       "      <th>Muerte, Heridas penetrantes, Desaparición (forzada)</th>\n",
       "      <td>1</td>\n",
       "    </tr>\n",
       "    <tr>\n",
       "      <th>Quemaduras, Golpes, Heridas penetrantes</th>\n",
       "      <td>1</td>\n",
       "    </tr>\n",
       "    <tr>\n",
       "      <th>Golpes, Privación de la libertad / Secuestro, Sometimiento a corriente eléctrica, Otras formas de maltrato físico</th>\n",
       "      <td>1</td>\n",
       "    </tr>\n",
       "    <tr>\n",
       "      <th>Quemaduras, Golpes, Privación de la libertad / Secuestro</th>\n",
       "      <td>1</td>\n",
       "    </tr>\n",
       "    <tr>\n",
       "      <th>Muerte, Golpes, Desaparición (forzada)</th>\n",
       "      <td>1</td>\n",
       "    </tr>\n",
       "    <tr>\n",
       "      <th>Golpes, Sometimiento a posturas forzadas, Privación de la libertad / Secuestro, Otras formas de maltrato físico</th>\n",
       "      <td>1</td>\n",
       "    </tr>\n",
       "    <tr>\n",
       "      <th>Muerte, Quemaduras, Golpes</th>\n",
       "      <td>1</td>\n",
       "    </tr>\n",
       "    <tr>\n",
       "      <th>Golpes, Privación de la libertad / Secuestro, Otras formas de maltrato físico</th>\n",
       "      <td>1</td>\n",
       "    </tr>\n",
       "    <tr>\n",
       "      <th>Caídas provocadas, Golpes, Privación de la libertad / Secuestro, Otras formas de maltrato físico</th>\n",
       "      <td>1</td>\n",
       "    </tr>\n",
       "    <tr>\n",
       "      <th>Golpes, Desaparición (forzada)</th>\n",
       "      <td>1</td>\n",
       "    </tr>\n",
       "    <tr>\n",
       "      <th>Muerte, Privación de la libertad / Secuestro</th>\n",
       "      <td>1</td>\n",
       "    </tr>\n",
       "    <tr>\n",
       "      <th>Muerte, Desaparición (forzada)</th>\n",
       "      <td>1</td>\n",
       "    </tr>\n",
       "    <tr>\n",
       "      <th>Caídas provocadas, Muerte, Heridas penetrantes</th>\n",
       "      <td>1</td>\n",
       "    </tr>\n",
       "    <tr>\n",
       "      <th>Golpes, Sometimiento a posturas forzadas, Otras formas de maltrato físico</th>\n",
       "      <td>1</td>\n",
       "    </tr>\n",
       "    <tr>\n",
       "      <th>Muerte, Golpes, Privación de la libertad / Secuestro</th>\n",
       "      <td>1</td>\n",
       "    </tr>\n",
       "    <tr>\n",
       "      <th>Golpes, Heridas penetrantes, Privación de la libertad / Secuestro</th>\n",
       "      <td>1</td>\n",
       "    </tr>\n",
       "    <tr>\n",
       "      <th>Asfixia, Muerte, Golpes, Sometimiento a corriente eléctrica</th>\n",
       "      <td>1</td>\n",
       "    </tr>\n",
       "    <tr>\n",
       "      <th>Asfixia, Golpes, Sometimiento a posturas forzadas</th>\n",
       "      <td>1</td>\n",
       "    </tr>\n",
       "    <tr>\n",
       "      <th>Muerte, Otras formas de maltrato físico</th>\n",
       "      <td>1</td>\n",
       "    </tr>\n",
       "    <tr>\n",
       "      <th>Asfixia, Muerte, Golpes, Privación de la libertad / Secuestro, Otras formas de maltrato físico</th>\n",
       "      <td>1</td>\n",
       "    </tr>\n",
       "    <tr>\n",
       "      <th>Asfixia, Caídas provocadas, Golpes, Otras formas de maltrato físico</th>\n",
       "      <td>1</td>\n",
       "    </tr>\n",
       "  </tbody>\n",
       "</table>\n",
       "</div>"
      ],
      "text/plain": [
       "                                                    violencia_fisica\n",
       "NaN                                                              849\n",
       "Golpes                                                           230\n",
       "Muerte                                                           102\n",
       "Heridas penetrantes                                               39\n",
       "Otras formas de maltrato físico                                   32\n",
       "Golpes, Otras formas de maltrato físico                           28\n",
       "Muerte, Heridas penetrantes                                       24\n",
       "Golpes, Heridas penetrantes                                       20\n",
       "Quemaduras                                                         8\n",
       "Privación de la libertad / Secuestro                               7\n",
       "Quemaduras, Golpes                                                 7\n",
       "Golpes, Privación de la libertad / Secuestro                       7\n",
       "Muerte, Golpes, Heridas penetrantes                                7\n",
       "Muerte, Golpes                                                     6\n",
       "Ninguno                                                            5\n",
       "Golpes, Sometimiento a corriente eléctrica                         4\n",
       "Asfixia, Golpes                                                    4\n",
       "Golpes, Sometimiento a posturas forzadas                           4\n",
       "Desaparición (forzada)                                             4\n",
       "Quemaduras, Golpes, Otras formas de maltrato fí...                 4\n",
       "Asfixia, Muerte                                                    3\n",
       "Muerte, Quemaduras                                                 3\n",
       "Sometimiento a posturas forzadas                                   2\n",
       "Caídas provocadas, Golpes                                          2\n",
       "Asfixia, Golpes, Otras formas de maltrato físico                   2\n",
       "Asfixia, Caídas provocadas, Quemaduras, Golpes,...                 2\n",
       "Privación de la libertad / Secuestro, Otras for...                 2\n",
       "Golpes, Heridas penetrantes, Otras formas de ma...                 2\n",
       "Heridas penetrantes, Otras formas de maltrato f...                 2\n",
       "Asfixia, Golpes, Sometimiento a corriente eléct...                 2\n",
       "Caídas provocadas                                                  1\n",
       "Asfixia, Golpes, Sometimiento a corriente eléct...                 1\n",
       "Golpes, Heridas penetrantes, Privación de la li...                 1\n",
       "Muerte, Golpes, Privación de la libertad / Secu...                 1\n",
       "Asfixia, Caídas provocadas, Golpes                                 1\n",
       "Muerte, Heridas penetrantes, Desaparición (forz...                 1\n",
       "Quemaduras, Golpes, Heridas penetrantes                            1\n",
       "Golpes, Privación de la libertad / Secuestro, S...                 1\n",
       "Quemaduras, Golpes, Privación de la libertad / ...                 1\n",
       "Muerte, Golpes, Desaparición (forzada)                             1\n",
       "Golpes, Sometimiento a posturas forzadas, Priva...                 1\n",
       "Muerte, Quemaduras, Golpes                                         1\n",
       "Golpes, Privación de la libertad / Secuestro, O...                 1\n",
       "Caídas provocadas, Golpes, Privación de la libe...                 1\n",
       "Golpes, Desaparición (forzada)                                     1\n",
       "Muerte, Privación de la libertad / Secuestro                       1\n",
       "Muerte, Desaparición (forzada)                                     1\n",
       "Caídas provocadas, Muerte, Heridas penetrantes                     1\n",
       "Golpes, Sometimiento a posturas forzadas, Otras...                 1\n",
       "Muerte, Golpes, Privación de la libertad / Secu...                 1\n",
       "Golpes, Heridas penetrantes, Privación de la li...                 1\n",
       "Asfixia, Muerte, Golpes, Sometimiento a corrien...                 1\n",
       "Asfixia, Golpes, Sometimiento a posturas forzadas                  1\n",
       "Muerte, Otras formas de maltrato físico                            1\n",
       "Asfixia, Muerte, Golpes, Privación de la libert...                 1\n",
       "Asfixia, Caídas provocadas, Golpes, Otras forma...                 1"
      ]
     },
     "execution_count": 13,
     "metadata": {},
     "output_type": "execute_result"
    }
   ],
   "source": [
    "dataset.violencia_fisica.value_counts(dropna=False).to_frame()"
   ]
  },
  {
   "cell_type": "markdown",
   "metadata": {},
   "source": [
    "Vemos que hay numerosos valores, y que entre ellos también está el valor \"Ninguno\". Entonces, decidimos tomar como casos con violencia aquellos en los que el valor de la columna correspondiente sea distinto de nulo y distinto del string \"Ninguno\". Podemos obtener dichos valores con el siguiente código:"
   ]
  },
  {
   "cell_type": "code",
   "execution_count": 18,
   "metadata": {},
   "outputs": [
    {
     "data": {
      "text/plain": [
       "(585, 17)"
      ]
     },
     "execution_count": 18,
     "metadata": {},
     "output_type": "execute_result"
    }
   ],
   "source": [
    "casos_vfisica = dataset.dropna(subset=['violencia_fisica'])\n",
    "casos_vfisica = casos_vfisica[casos_vfisica.violencia_fisica != 'Ninguno']\n",
    "casos_vfisica.shape"
   ]
  },
  {
   "cell_type": "markdown",
   "metadata": {},
   "source": [
    "Con dichos valores fintrados, tenemos que utilizar la definición de probabilidad conjunta:\n",
    "\n",
    "$$P(N~~|~~M) = \\frac{P (N \\wedge\t M)}{P(M)}$$\n",
    "\n",
    "Lo primero que podemos calcular es la probabilidad de un evento de violencia física\n",
    "\n",
    "$$P(M)$$"
   ]
  },
  {
   "cell_type": "code",
   "execution_count": 22,
   "metadata": {},
   "outputs": [
    {
     "name": "stdout",
     "output_type": "stream",
     "text": [
      "P(M) = 0.406532314107\n"
     ]
    }
   ],
   "source": [
    "prob_vfisica = len(casos_vfisica) / float(len(dataset))\n",
    "## Recuerden que en python para division no entera deben convertir alguno de los atributos a float\n",
    "print('P(M) = {}'.format(prob_vfisica))"
   ]
  },
  {
   "cell_type": "markdown",
   "metadata": {},
   "source": [
    "Lo segundo que tenemos que calcular entonces es la probabilidad conjunta \n",
    "\n",
    "$$P (N \\wedge\t M)$$\n",
    "\n",
    "para ello, contamos los casos en los que hubo ambos tipos de violencia. A los casos filtrados de violencia fisica le substraemos también las filas en las que NO hubo violencia psíquica siguiendo el mismo criterio (sin nan y sin valor \"Ninguno\") "
   ]
  },
  {
   "cell_type": "code",
   "execution_count": 23,
   "metadata": {},
   "outputs": [
    {
     "data": {
      "text/plain": [
       "(124, 17)"
      ]
     },
     "execution_count": 23,
     "metadata": {},
     "output_type": "execute_result"
    }
   ],
   "source": [
    "casos_vpsiquica_vfisica = casos_vfisica.dropna(subset=['violencia_psiquica'])\n",
    "casos_vpsiquica_vfisica = casos_vpsiquica_vfisica[casos_vpsiquica_vfisica.violencia_psiquica != 'Ninguno']\n",
    "casos_vpsiquica_vfisica.shape"
   ]
  },
  {
   "cell_type": "markdown",
   "metadata": {},
   "source": [
    "Para finalmente calcular la probabilidad, dividimos por el total de casos"
   ]
  },
  {
   "cell_type": "code",
   "execution_count": 45,
   "metadata": {},
   "outputs": [
    {
     "name": "stdout",
     "output_type": "stream",
     "text": [
      "P(M & N) = 0.08617095205\n"
     ]
    }
   ],
   "source": [
    "prob_vpsiquica_vfisica = len(casos_vpsiquica_vfisica) / float(len(dataset))\n",
    "print('P(M & N) = {}'.format(prob_vpsiquica_vfisica))"
   ]
  },
  {
   "cell_type": "markdown",
   "metadata": {},
   "source": [
    "Ahora la probabilidad condicional es calculada como:"
   ]
  },
  {
   "cell_type": "code",
   "execution_count": 26,
   "metadata": {},
   "outputs": [
    {
     "name": "stdout",
     "output_type": "stream",
     "text": [
      "P(N | M) = 0.211965811966\n"
     ]
    }
   ],
   "source": [
    "prob_vpsiquica_dado_vfisica = prob_vpsiquica_vfisica / prob_vfisica\n",
    "print('P(N | M) = {}'.format(prob_vpsiquica_dado_vfisica))"
   ]
  },
  {
   "cell_type": "markdown",
   "metadata": {},
   "source": [
    "### Otra forma:\n",
    "\n",
    "Podemos aprovechar la definición de probabilidad conjunta para evitarnos un par de divisiones:\n",
    "\n",
    "$$P(N~~|~~M) = \\frac{P (N \\wedge\t M)}{P(M)} = \\frac{\\frac{\\text{# de casos con M y N}}{\\text{# de casos}}}{\\frac{\\text{# de casos con M}}{\\text{# de casos}}} = \\frac{\\text{# de casos con M y N}}{\\text{# de casos con M}}$$\n",
    "\n",
    "Vemos que los denominadores se cancelan, ya que para calcular ambas probabilidades estamos dividiendo por el número total de casos. Programado quedaría:"
   ]
  },
  {
   "cell_type": "code",
   "execution_count": 27,
   "metadata": {},
   "outputs": [
    {
     "name": "stdout",
     "output_type": "stream",
     "text": [
      "P(N | M) = 0.211965811966\n"
     ]
    }
   ],
   "source": [
    "prob_vpsiquica_dado_vfisica = len(casos_vpsiquica_vfisica) / float(len(casos_vfisica))\n",
    "print('P(N | M) = {}'.format(prob_vpsiquica_dado_vfisica))"
   ]
  },
  {
   "cell_type": "markdown",
   "metadata": {},
   "source": [
    "* ¿Qué conclusión se puede formular de los datos que tenemos y los datos que obtenemos de los métodos probabilísticos?\n",
    "\n",
    "Esto es una pregunta de interpretación, y muchas conclusiones se pueden extraer. Nuestra opinión es que la probabilidad de que exista violencia psícológica dado que existió la violencia física es muy baja y no refleja las situaciones reales, donde consideramos altamente probable que ambos tipos de violencia se presenten en conjunto. En este caso, el dataset no estaría registrando estos datos de manera fiable, por ejemplo a causa de la menor atención que se presta a los casos de abusos psicológicos. Al considerarlos de menor gravedad, menos denuncias son registradas."
   ]
  },
  {
   "cell_type": "markdown",
   "metadata": {},
   "source": [
    "* ¿Podemos concluir en que son eventos independientes dadas las muestras?\n",
    "\n",
    "Para saber si los eventos son independientes podemos determinar si el producto de las probabilidades marginales es igual a la probabilidad conjunta, es decir, si la siguiente ecuación vale:\n",
    "\n",
    "$$P(M) * P(N) = P(N \\wedge\t M)$$\n",
    "\n",
    "Para calcular esto, sólo nos queda calcular P(N)\n"
   ]
  },
  {
   "cell_type": "code",
   "execution_count": 28,
   "metadata": {},
   "outputs": [
    {
     "data": {
      "text/plain": [
       "(486, 17)"
      ]
     },
     "execution_count": 28,
     "metadata": {},
     "output_type": "execute_result"
    }
   ],
   "source": [
    "casos_vpsiquica = dataset.dropna(subset=['violencia_psiquica'])\n",
    "casos_vpsiquica = casos_vpsiquica[casos_vpsiquica.violencia_fisica != 'Ninguno']\n",
    "casos_vpsiquica.shape"
   ]
  },
  {
   "cell_type": "code",
   "execution_count": 30,
   "metadata": {},
   "outputs": [
    {
     "data": {
      "text/plain": [
       "0.33773453787352326"
      ]
     },
     "execution_count": 30,
     "metadata": {},
     "output_type": "execute_result"
    }
   ],
   "source": [
    "prob_vpsiquica = len(casos_vpsiquica) / float(len(dataset))\n",
    "prob_vpsiquica"
   ]
  },
  {
   "cell_type": "markdown",
   "metadata": {},
   "source": [
    "Finalmente, calculamos la igualdad"
   ]
  },
  {
   "cell_type": "code",
   "execution_count": 33,
   "metadata": {},
   "outputs": [
    {
     "name": "stdout",
     "output_type": "stream",
     "text": [
      "Producto de probabilidades marginales P(N)*P(M): 0.137300003236\n",
      "Probabilidad conjunta P(N & M): 0.08617095205\n"
     ]
    }
   ],
   "source": [
    "print('Producto de probabilidades marginales P(N)*P(M): {}'.format(prob_vfisica * prob_vpsiquica))\n",
    "print('Probabilidad conjunta P(N & M): {}'.format(prob_vpsiquica_vfisica))"
   ]
  },
  {
   "cell_type": "markdown",
   "metadata": {},
   "source": [
    "Finalmente podemos decir que como estas cantidades no son iguales, entonces las variables no son independientes, tal y como es de esperar."
   ]
  },
  {
   "cell_type": "markdown",
   "metadata": {},
   "source": [
    "----\n",
    "\n",
    "## Parte 2 - Ejercicio 1"
   ]
  },
  {
   "cell_type": "code",
   "execution_count": 34,
   "metadata": {
    "collapsed": true
   },
   "outputs": [],
   "source": [
    "from scipy.stats import expon\n",
    "import matplotlib.pyplot as plt\n",
    "import numpy as np"
   ]
  },
  {
   "cell_type": "markdown",
   "metadata": {},
   "source": [
    "Desarrollar analíticamente el tiempo de vida en horas que una computadora funciona antes de descomponerse es una v.a.\n",
    "continua con f.d.p. dada por\n",
    "\n",
    "$$\n",
    "f ( x ) = \\begin{cases}\n",
    "~~ 0.01e^{0.01}x & si ~~ x ≥ 0 \\\\\n",
    "~~ 0 & si ~~ x<0\n",
    "\\end{cases}\n",
    "$$\n",
    "\n",
    "* Hallar la F.d.a. de X\n",
    "\n",
    "Analíticamente, o buscando en internet, encontramos que la F.d.a de esta distribución exponencial es:\n",
    "\n",
    "$$\n",
    "Fda ( x ) = \\begin{cases}\n",
    "~~ 1 - e^{0.01}x & si ~~ x ≥ 0 \\\\\n",
    "~~ 0 & si ~~ x<0\n",
    "\\end{cases}\n",
    "$$\n",
    "\n",
    "La podemos graficar con el siguiente código"
   ]
  },
  {
   "cell_type": "code",
   "execution_count": 36,
   "metadata": {},
   "outputs": [
    {
     "data": {
      "image/png": "[encoded data removed]",
      "text/plain": [
       "<matplotlib.figure.Figure at 0x7f2308c5d910>"
      ]
     },
     "metadata": {},
     "output_type": "display_data"
    }
   ],
   "source": [
    "x = np.linspace(0, 200, 200)\n",
    "y = 1 - np.exp(-0.01 * x)\n",
    "plt.figure()\n",
    "plt.plot(x, y)\n",
    "plt.xlabel('$x$')\n",
    "plt.ylabel('$\\exp(x)$')\n",
    "plt.show()"
   ]
  },
  {
   "cell_type": "markdown",
   "metadata": {},
   "source": [
    "* ¿Cuál es la probabilidad que la computadora funcione entre 50 y 150 horas antes de descomponerse?\n",
    "\n",
    "Sabemos que para calcular esta probabilidad tenemos que hallar:\n",
    "\n",
    "$$Fda(150) - Fda(50)$$\n",
    "\n",
    "Utilizando la fórmula anterior de la función de distribución acumulada lo podemos programar:"
   ]
  },
  {
   "cell_type": "code",
   "execution_count": 39,
   "metadata": {},
   "outputs": [
    {
     "data": {
      "text/plain": [
       "0.38340049956420363"
      ]
     },
     "execution_count": 39,
     "metadata": {},
     "output_type": "execute_result"
    }
   ],
   "source": [
    "s1 = 1 - np.exp(-0.01*50)\n",
    "s2 = 1 - np.exp(-0.01*150)\n",
    "result = s2 - s1\n",
    "result"
   ]
  },
  {
   "cell_type": "markdown",
   "metadata": {},
   "source": [
    "* ¿Cuál es la probabilidad que una computadora se descomponga antes de registrar 100 horas de uso?\n",
    "\n",
    "Sabemos que f(x) modela el tiempo antes de que la computadora se descomponga. Luego, lo que necesitamos es simplemente:\n",
    "\n",
    "$$ Fda(100)$$"
   ]
  },
  {
   "cell_type": "code",
   "execution_count": 40,
   "metadata": {},
   "outputs": [
    {
     "data": {
      "text/plain": [
       "0.63212055882855767"
      ]
     },
     "execution_count": 40,
     "metadata": {},
     "output_type": "execute_result"
    }
   ],
   "source": [
    "1 - np.exp(-0.01*100)"
   ]
  },
  {
   "cell_type": "code",
   "execution_count": null,
   "metadata": {
    "collapsed": true
   },
   "outputs": [],
   "source": []
  }
 ],
 "metadata": {
  "kernelspec": {
   "display_name": "Python [conda env:env35]",
   "language": "python",
   "name": "conda-env-env35-py"
  },
  "language_info": {
   "codemirror_mode": {
    "name": "ipython",
    "version": 2
   },
   "file_extension": ".py",
   "mimetype": "text/x-python",
   "name": "python",
   "nbconvert_exporter": "python",
   "pygments_lexer": "ipython2",
   "version": "2.7.13"
  }
 },
 "nbformat": 4,
 "nbformat_minor": 2
}
